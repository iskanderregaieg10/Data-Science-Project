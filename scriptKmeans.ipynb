{
 "cells": [
  {
   "cell_type": "code",
   "execution_count": null,
   "metadata": {},
   "outputs": [],
   "source": [
    "import joblib\n",
    "from flask import Flask\n",
    "from flask import request\n",
    "\n",
    "app = Flask(__name__)\n",
    "@app.route('/<nb_lines>')\n",
    "def index(nb_lines):\n",
    "    tab=[int(nb_lines)]\n",
    "    tab=tab+[0]*(55-len(tab)) #mettre nos donnes ici\n",
    "    tab1=[]\n",
    "    print(tab)\n",
    "    tab1.append(tab)\n",
    "    #Charger le modèle depuis le fichier\n",
    "    model = joblib.load(\"./model.joblib\")\n",
    "    #Prédire le montant d'achat à l'aide du modèle\n",
    "    predection= model.predict(tab1)\n",
    "    #Afficher le résultat dans le navigateur\n",
    "    \n",
    "    return(\"\"+str(predection[0]))\n",
    "\n",
    "app.run(host='localhost',port=5000)"
   ]
  },
  {
   "cell_type": "code",
   "execution_count": null,
   "metadata": {},
   "outputs": [],
   "source": [
    "import joblib\n",
    "from flask import Flask\n",
    "from flask import request\n",
    "from flask_cors import CORS\n",
    "import pandas as pd\n",
    "\n",
    "app = Flask(__name__)\n",
    "CORS(app)\n",
    "\n",
    "@app.route(\"/predict\",methods=['GET'])\n",
    "def index():\n",
    "    tab=list(map(int,list(request.args.values())))[:29]\n",
    "    operator=[0,0]\n",
    "    operatorbis=[0,0,0]\n",
    "    ville=[0]*15\n",
    "    age=[0,0,0,0]\n",
    "    occupation=[0,0]\n",
    "    if(request.args.get('operator')!='-1'):\n",
    "        operator[int(request.args.get('operator'))]=1\n",
    "    if(request.args.get('operatorbis')!='-1'):\n",
    "        operatorbis[int(request.args.get('operatorbis'))]=1\n",
    "    if(request.args.get('ville')!='-1'):\n",
    "        ville[int(request.args.get('ville'))]=1\n",
    "    if(request.args.get('age')!='-1'):\n",
    "        age[int(request.args.get('age'))]=1\n",
    "    if(request.args.get('occupation')!='-1'):\n",
    "        occupation[int(request.args.get('occupation'))]=1\n",
    "    tab=tab+operator+operatorbis+ville+age+occupation\n",
    "    tab=tab+((55-len(tab))*[0])\n",
    "    tab1=[]\n",
    "    print(tab)\n",
    "    tab1.append(tab)\n",
    "    model = joblib.load(\"./model.joblib\")\n",
    "    predection= model.predict(tab1)\n",
    "    return(\"\"+str(predection[0]))\n",
    "\n",
    "app.run(host='localhost',port=5000)"
   ]
  },
  {
   "cell_type": "code",
   "execution_count": null,
   "metadata": {},
   "outputs": [],
   "source": []
  },
  {
   "cell_type": "code",
   "execution_count": null,
   "metadata": {},
   "outputs": [],
   "source": []
  }
 ],
 "metadata": {
  "kernelspec": {
   "display_name": "Python 3",
   "language": "python",
   "name": "python3"
  },
  "language_info": {
   "codemirror_mode": {
    "name": "ipython",
    "version": 3
   },
   "file_extension": ".py",
   "mimetype": "text/x-python",
   "name": "python",
   "nbconvert_exporter": "python",
   "pygments_lexer": "ipython3",
   "version": "3.7.4"
  }
 },
 "nbformat": 4,
 "nbformat_minor": 2
}
